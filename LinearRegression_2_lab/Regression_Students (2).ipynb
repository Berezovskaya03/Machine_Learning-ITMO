{
 "cells": [
  {
   "cell_type": "markdown",
   "metadata": {
    "id": "9eFThHrPlCFg"
   },
   "source": [
    "Импорт библиотек"
   ]
  },
  {
   "cell_type": "code",
   "execution_count": 429,
   "metadata": {},
   "outputs": [
    {
     "name": "stdout",
     "output_type": "stream",
     "text": [
      "{1: 0.027777777777777776, 2: 0.027777777777777776, 3: 0.027777777777777776, 4: 0.08333333333333333, 5: 0.027777777777777776, 6: 0.05555555555555555, 8: 0.027777777777777776, 10: 0.027777777777777776, 12: 0.05555555555555555, 9: 0.08333333333333333, 15: 0.027777777777777776, 18: 0.027777777777777776, 16: 0.1111111111111111, 20: 0.027777777777777776, 24: 0.027777777777777776, 25: 0.1388888888888889, 30: 0.027777777777777776, 36: 0.16666666666666666}\n",
      "616\n"
     ]
    }
   ],
   "source": [
    "import collections\n",
    "\n",
    "counter = collections.Counter()\n",
    "for i in range(1, 7):\n",
    "  for j in range(1, 7):\n",
    "    counter[i * max(i, j)] += 1\n",
    "\n",
    "print({ value : counter[value] / 36. for value in counter })\n",
    "\n",
    "sumc = 0\n",
    "for value in counter:\n",
    "    sumc += value * counter[value]\n",
    "print(sumc)"
   ]
  },
  {
   "cell_type": "code",
   "execution_count": 159,
   "metadata": {
    "id": "zqaeN2z8v3qR"
   },
   "outputs": [],
   "source": [
    "import pandas as pd\n",
    "import seaborn as sns\n",
    "from sklearn.model_selection import train_test_split \n",
    "from sklearn.decomposition import PCA\n",
    "from sklearn.linear_model import LinearRegression\n",
    "from sklearn.metrics import r2_score"
   ]
  },
  {
   "cell_type": "markdown",
   "metadata": {
    "id": "QTq1SRHEzF6J"
   },
   "source": [
    "Всего датасет содержит 159 записей. Мы предварительно зарезервировали часть датасета для задания по преодолению бейслайна (baseline). В настоящем задании подразумевается работа с датасетом, содержащим 119 записей."
   ]
  },
  {
   "cell_type": "markdown",
   "metadata": {
    "id": "bjyhxYK-eoem"
   },
   "source": [
    "# 0. Применение полиномиальной регрессии для предсказания непрерывного параметра"
   ]
  },
  {
   "cell_type": "markdown",
   "metadata": {
    "id": "VpkXz4mpeygZ"
   },
   "source": [
    "Представленный набор данных — это набор данных о семи различных типах рыб, продаваемых в некоторой рыбной лавке. Наша цель заключается в том, чтобы предсказать массу рыбы по каким-то косвенным признакам, известным о рыбе. Сами признаки, быть может, нужно синтезировать из тех, что известны."
   ]
  },
  {
   "cell_type": "markdown",
   "metadata": {
    "id": "K497OQtR0cbN"
   },
   "source": [
    "При помощи <code>train_test_split()</code> разбейте набор данных на обучающую и тестовую выборки с параметрами, указанными в вашем задании. Используйте стратификацию по колонке <code>Species</code>. Стратификация позволит сохранить доли представленных объектов (по представителям типов рыб) в тренировочной и тестовой выборках."
   ]
  },
  {
   "cell_type": "code",
   "execution_count": 344,
   "metadata": {},
   "outputs": [
    {
     "data": {
      "text/html": [
       "<div>\n",
       "<style scoped>\n",
       "    .dataframe tbody tr th:only-of-type {\n",
       "        vertical-align: middle;\n",
       "    }\n",
       "\n",
       "    .dataframe tbody tr th {\n",
       "        vertical-align: top;\n",
       "    }\n",
       "\n",
       "    .dataframe thead th {\n",
       "        text-align: right;\n",
       "    }\n",
       "</style>\n",
       "<table border=\"1\" class=\"dataframe\">\n",
       "  <thead>\n",
       "    <tr style=\"text-align: right;\">\n",
       "      <th></th>\n",
       "      <th>Species</th>\n",
       "      <th>Weight</th>\n",
       "      <th>Length1</th>\n",
       "      <th>Length2</th>\n",
       "      <th>Length3</th>\n",
       "      <th>Height</th>\n",
       "      <th>Width</th>\n",
       "    </tr>\n",
       "  </thead>\n",
       "  <tbody>\n",
       "    <tr>\n",
       "      <th>0</th>\n",
       "      <td>Roach</td>\n",
       "      <td>150.0</td>\n",
       "      <td>20.4</td>\n",
       "      <td>22.0</td>\n",
       "      <td>24.7</td>\n",
       "      <td>5.8045</td>\n",
       "      <td>3.7544</td>\n",
       "    </tr>\n",
       "    <tr>\n",
       "      <th>1</th>\n",
       "      <td>Perch</td>\n",
       "      <td>250.0</td>\n",
       "      <td>25.4</td>\n",
       "      <td>27.5</td>\n",
       "      <td>28.9</td>\n",
       "      <td>7.2828</td>\n",
       "      <td>4.5662</td>\n",
       "    </tr>\n",
       "    <tr>\n",
       "      <th>2</th>\n",
       "      <td>Bream</td>\n",
       "      <td>430.0</td>\n",
       "      <td>26.5</td>\n",
       "      <td>29.0</td>\n",
       "      <td>34.0</td>\n",
       "      <td>12.4440</td>\n",
       "      <td>5.1340</td>\n",
       "    </tr>\n",
       "    <tr>\n",
       "      <th>3</th>\n",
       "      <td>Bream</td>\n",
       "      <td>925.0</td>\n",
       "      <td>36.2</td>\n",
       "      <td>39.5</td>\n",
       "      <td>45.3</td>\n",
       "      <td>18.7542</td>\n",
       "      <td>6.7497</td>\n",
       "    </tr>\n",
       "    <tr>\n",
       "      <th>4</th>\n",
       "      <td>Perch</td>\n",
       "      <td>110.0</td>\n",
       "      <td>19.0</td>\n",
       "      <td>21.0</td>\n",
       "      <td>22.5</td>\n",
       "      <td>5.6925</td>\n",
       "      <td>3.5550</td>\n",
       "    </tr>\n",
       "    <tr>\n",
       "      <th>...</th>\n",
       "      <td>...</td>\n",
       "      <td>...</td>\n",
       "      <td>...</td>\n",
       "      <td>...</td>\n",
       "      <td>...</td>\n",
       "      <td>...</td>\n",
       "      <td>...</td>\n",
       "    </tr>\n",
       "    <tr>\n",
       "      <th>114</th>\n",
       "      <td>Parkki</td>\n",
       "      <td>273.0</td>\n",
       "      <td>23.0</td>\n",
       "      <td>25.0</td>\n",
       "      <td>28.0</td>\n",
       "      <td>11.0880</td>\n",
       "      <td>4.1440</td>\n",
       "    </tr>\n",
       "    <tr>\n",
       "      <th>115</th>\n",
       "      <td>Pike</td>\n",
       "      <td>500.0</td>\n",
       "      <td>42.0</td>\n",
       "      <td>45.0</td>\n",
       "      <td>48.0</td>\n",
       "      <td>6.9600</td>\n",
       "      <td>4.8960</td>\n",
       "    </tr>\n",
       "    <tr>\n",
       "      <th>116</th>\n",
       "      <td>Whitefish</td>\n",
       "      <td>1000.0</td>\n",
       "      <td>37.3</td>\n",
       "      <td>40.0</td>\n",
       "      <td>43.5</td>\n",
       "      <td>12.3540</td>\n",
       "      <td>6.5250</td>\n",
       "    </tr>\n",
       "    <tr>\n",
       "      <th>117</th>\n",
       "      <td>Perch</td>\n",
       "      <td>120.0</td>\n",
       "      <td>20.0</td>\n",
       "      <td>22.0</td>\n",
       "      <td>23.5</td>\n",
       "      <td>6.1100</td>\n",
       "      <td>3.4075</td>\n",
       "    </tr>\n",
       "    <tr>\n",
       "      <th>118</th>\n",
       "      <td>Perch</td>\n",
       "      <td>820.0</td>\n",
       "      <td>36.6</td>\n",
       "      <td>39.0</td>\n",
       "      <td>41.3</td>\n",
       "      <td>12.4313</td>\n",
       "      <td>7.3514</td>\n",
       "    </tr>\n",
       "  </tbody>\n",
       "</table>\n",
       "<p>119 rows × 7 columns</p>\n",
       "</div>"
      ],
      "text/plain": [
       "       Species  Weight  Length1  Length2  Length3   Height   Width\n",
       "0        Roach   150.0     20.4     22.0     24.7   5.8045  3.7544\n",
       "1        Perch   250.0     25.4     27.5     28.9   7.2828  4.5662\n",
       "2        Bream   430.0     26.5     29.0     34.0  12.4440  5.1340\n",
       "3        Bream   925.0     36.2     39.5     45.3  18.7542  6.7497\n",
       "4        Perch   110.0     19.0     21.0     22.5   5.6925  3.5550\n",
       "..         ...     ...      ...      ...      ...      ...     ...\n",
       "114     Parkki   273.0     23.0     25.0     28.0  11.0880  4.1440\n",
       "115       Pike   500.0     42.0     45.0     48.0   6.9600  4.8960\n",
       "116  Whitefish  1000.0     37.3     40.0     43.5  12.3540  6.5250\n",
       "117      Perch   120.0     20.0     22.0     23.5   6.1100  3.4075\n",
       "118      Perch   820.0     36.6     39.0     41.3  12.4313  7.3514\n",
       "\n",
       "[119 rows x 7 columns]"
      ]
     },
     "execution_count": 344,
     "metadata": {},
     "output_type": "execute_result"
    }
   ],
   "source": [
    "file_path = 'C:/Users/Соня/OneDrive/Рабочий стол/jupyter/ml_online_course/lin_regr/fish_train.csv'\n",
    "df = pd.read_csv(file_path)\n",
    "df"
   ]
  },
  {
   "cell_type": "code",
   "execution_count": 345,
   "metadata": {
    "id": "KXoU2OWH0fn5"
   },
   "outputs": [
    {
     "data": {
      "text/plain": [
       "24"
      ]
     },
     "execution_count": 345,
     "metadata": {},
     "output_type": "execute_result"
    }
   ],
   "source": [
    "X_train, X_test, y_train, y_test = train_test_split(df, df['Weight'], test_size=0.2, stratify=df['Species'], random_state=9)\n",
    "len(X_test)"
   ]
  },
  {
   "cell_type": "markdown",
   "metadata": {
    "id": "euRpYppY1xuR"
   },
   "source": [
    "Вычислите выборочное среднее колонки <code>Width</code> полученной тренировочной выборки."
   ]
  },
  {
   "cell_type": "code",
   "execution_count": 346,
   "metadata": {
    "id": "3q_2UVQ_2Avj"
   },
   "outputs": [
    {
     "name": "stdout",
     "output_type": "stream",
     "text": [
      "380.573\n"
     ]
    },
    {
     "name": "stderr",
     "output_type": "stream",
     "text": [
      "C:\\Users\\Соня\\AppData\\Local\\Temp\\ipykernel_1808\\4118333275.py:2: FutureWarning: Dropping of nuisance columns in DataFrame reductions (with 'numeric_only=None') is deprecated; in a future version this will raise TypeError.  Select only valid columns before calling the reduction.\n",
      "  X_train.mean()\n"
     ]
    },
    {
     "data": {
      "text/plain": [
       "Weight     380.572632\n",
       "Length1     26.046316\n",
       "Length2     28.189474\n",
       "Length3     30.976842\n",
       "Height       8.916377\n",
       "Width        4.435089\n",
       "dtype: float64"
      ]
     },
     "execution_count": 346,
     "metadata": {},
     "output_type": "execute_result"
    }
   ],
   "source": [
    "print(round(y_train.mean(), 3))\n",
    "X_train.mean()"
   ]
  },
  {
   "cell_type": "code",
   "execution_count": 347,
   "metadata": {},
   "outputs": [
    {
     "data": {
      "text/html": [
       "<div>\n",
       "<style scoped>\n",
       "    .dataframe tbody tr th:only-of-type {\n",
       "        vertical-align: middle;\n",
       "    }\n",
       "\n",
       "    .dataframe tbody tr th {\n",
       "        vertical-align: top;\n",
       "    }\n",
       "\n",
       "    .dataframe thead th {\n",
       "        text-align: right;\n",
       "    }\n",
       "</style>\n",
       "<table border=\"1\" class=\"dataframe\">\n",
       "  <thead>\n",
       "    <tr style=\"text-align: right;\">\n",
       "      <th></th>\n",
       "      <th>Parkki</th>\n",
       "      <th>Perch</th>\n",
       "      <th>Pike</th>\n",
       "      <th>Roach</th>\n",
       "      <th>Smelt</th>\n",
       "      <th>Whitefish</th>\n",
       "    </tr>\n",
       "  </thead>\n",
       "  <tbody>\n",
       "    <tr>\n",
       "      <th>24</th>\n",
       "      <td>0</td>\n",
       "      <td>0</td>\n",
       "      <td>0</td>\n",
       "      <td>0</td>\n",
       "      <td>0</td>\n",
       "      <td>0</td>\n",
       "    </tr>\n",
       "    <tr>\n",
       "      <th>72</th>\n",
       "      <td>0</td>\n",
       "      <td>0</td>\n",
       "      <td>0</td>\n",
       "      <td>1</td>\n",
       "      <td>0</td>\n",
       "      <td>0</td>\n",
       "    </tr>\n",
       "    <tr>\n",
       "      <th>46</th>\n",
       "      <td>0</td>\n",
       "      <td>0</td>\n",
       "      <td>0</td>\n",
       "      <td>1</td>\n",
       "      <td>0</td>\n",
       "      <td>0</td>\n",
       "    </tr>\n",
       "    <tr>\n",
       "      <th>55</th>\n",
       "      <td>0</td>\n",
       "      <td>0</td>\n",
       "      <td>1</td>\n",
       "      <td>0</td>\n",
       "      <td>0</td>\n",
       "      <td>0</td>\n",
       "    </tr>\n",
       "    <tr>\n",
       "      <th>36</th>\n",
       "      <td>0</td>\n",
       "      <td>0</td>\n",
       "      <td>0</td>\n",
       "      <td>0</td>\n",
       "      <td>1</td>\n",
       "      <td>0</td>\n",
       "    </tr>\n",
       "    <tr>\n",
       "      <th>...</th>\n",
       "      <td>...</td>\n",
       "      <td>...</td>\n",
       "      <td>...</td>\n",
       "      <td>...</td>\n",
       "      <td>...</td>\n",
       "      <td>...</td>\n",
       "    </tr>\n",
       "    <tr>\n",
       "      <th>35</th>\n",
       "      <td>0</td>\n",
       "      <td>0</td>\n",
       "      <td>1</td>\n",
       "      <td>0</td>\n",
       "      <td>0</td>\n",
       "      <td>0</td>\n",
       "    </tr>\n",
       "    <tr>\n",
       "      <th>79</th>\n",
       "      <td>0</td>\n",
       "      <td>1</td>\n",
       "      <td>0</td>\n",
       "      <td>0</td>\n",
       "      <td>0</td>\n",
       "      <td>0</td>\n",
       "    </tr>\n",
       "    <tr>\n",
       "      <th>49</th>\n",
       "      <td>1</td>\n",
       "      <td>0</td>\n",
       "      <td>0</td>\n",
       "      <td>0</td>\n",
       "      <td>0</td>\n",
       "      <td>0</td>\n",
       "    </tr>\n",
       "    <tr>\n",
       "      <th>47</th>\n",
       "      <td>0</td>\n",
       "      <td>0</td>\n",
       "      <td>0</td>\n",
       "      <td>0</td>\n",
       "      <td>0</td>\n",
       "      <td>0</td>\n",
       "    </tr>\n",
       "    <tr>\n",
       "      <th>92</th>\n",
       "      <td>0</td>\n",
       "      <td>0</td>\n",
       "      <td>0</td>\n",
       "      <td>0</td>\n",
       "      <td>0</td>\n",
       "      <td>0</td>\n",
       "    </tr>\n",
       "  </tbody>\n",
       "</table>\n",
       "<p>95 rows × 6 columns</p>\n",
       "</div>"
      ],
      "text/plain": [
       "    Parkki  Perch  Pike  Roach  Smelt  Whitefish\n",
       "24       0      0     0      0      0          0\n",
       "72       0      0     0      1      0          0\n",
       "46       0      0     0      1      0          0\n",
       "55       0      0     1      0      0          0\n",
       "36       0      0     0      0      1          0\n",
       "..     ...    ...   ...    ...    ...        ...\n",
       "35       0      0     1      0      0          0\n",
       "79       0      1     0      0      0          0\n",
       "49       1      0     0      0      0          0\n",
       "47       0      0     0      0      0          0\n",
       "92       0      0     0      0      0          0\n",
       "\n",
       "[95 rows x 6 columns]"
      ]
     },
     "execution_count": 347,
     "metadata": {},
     "output_type": "execute_result"
    }
   ],
   "source": [
    "X_train_cat = pd.get_dummies(X_train['Species'], drop_first=True)#необходимо для будущего задания\n",
    "X_test_cat = pd.get_dummies(X_test['Species'], drop_first=True)\n",
    "X_train_cat"
   ]
  },
  {
   "cell_type": "markdown",
   "metadata": {
    "id": "cAQId_950UCZ"
   },
   "source": [
    "# 1. Построение базовой модели\n",
    "\n",
    "Избавьтесь от категориальных признаков и обучите модель линейной регрессии (<code>LinearRegression()</code>) на тренировочном наборе данных. Выполните предсказания для тестового набора данных. Оцените модель при помощи метрики <code>r2_score()</code>."
   ]
  },
  {
   "cell_type": "code",
   "execution_count": 349,
   "metadata": {
    "id": "J9QyfzCx5FrA"
   },
   "outputs": [
    {
     "name": "stdout",
     "output_type": "stream",
     "text": [
      "<class 'pandas.core.frame.DataFrame'>\n",
      "Int64Index: 95 entries, 24 to 92\n",
      "Data columns (total 7 columns):\n",
      " #   Column   Non-Null Count  Dtype  \n",
      "---  ------   --------------  -----  \n",
      " 0   Species  95 non-null     object \n",
      " 1   Weight   95 non-null     float64\n",
      " 2   Length1  95 non-null     float64\n",
      " 3   Length2  95 non-null     float64\n",
      " 4   Length3  95 non-null     float64\n",
      " 5   Height   95 non-null     float64\n",
      " 6   Width    95 non-null     float64\n",
      "dtypes: float64(6), object(1)\n",
      "memory usage: 5.9+ KB\n",
      "<class 'pandas.core.frame.DataFrame'>\n",
      "Int64Index: 95 entries, 24 to 92\n",
      "Data columns (total 5 columns):\n",
      " #   Column   Non-Null Count  Dtype  \n",
      "---  ------   --------------  -----  \n",
      " 0   Length1  95 non-null     float64\n",
      " 1   Length2  95 non-null     float64\n",
      " 2   Length3  95 non-null     float64\n",
      " 3   Height   95 non-null     float64\n",
      " 4   Width    95 non-null     float64\n",
      "dtypes: float64(5)\n",
      "memory usage: 4.5 KB\n"
     ]
    }
   ],
   "source": [
    "X_train.info() # Ищем категориальные признаки\n",
    "X_train.drop(['Species', 'Weight'], axis=1, inplace=True) #df.drop(['B', 'C'], axis=1)\n",
    "X_train.info()"
   ]
  },
  {
   "cell_type": "code",
   "execution_count": 350,
   "metadata": {},
   "outputs": [],
   "source": [
    "X_test.drop(['Species', 'Weight'], axis=1, inplace=True)"
   ]
  },
  {
   "cell_type": "code",
   "execution_count": 351,
   "metadata": {},
   "outputs": [],
   "source": [
    "simple_lr = LinearRegression()\n",
    "simple_lr.fit(X_train,y_train)\n",
    "predicted_y = simple_lr.predict(X_test)"
   ]
  },
  {
   "cell_type": "code",
   "execution_count": 352,
   "metadata": {},
   "outputs": [
    {
     "data": {
      "text/plain": [
       "0.839"
      ]
     },
     "execution_count": 352,
     "metadata": {},
     "output_type": "execute_result"
    }
   ],
   "source": [
    " round(r2_score(y_test, predicted_y), 3)"
   ]
  },
  {
   "cell_type": "markdown",
   "metadata": {
    "id": "qPEFdTMe56b9"
   },
   "source": [
    "# 2. Добавление предварительной обработки признаков."
   ]
  },
  {
   "cell_type": "markdown",
   "metadata": {
    "id": "kKrNXjxTCS1D"
   },
   "source": [
    "## Использование PCA\n",
    "\n",
    "При помощи, например, <code>sns.heatmap()</code>, постройте матрицу корреляций признаков тренировочного набора данных и определите тройку наиболее коррелированных между собой признаков."
   ]
  },
  {
   "cell_type": "code",
   "execution_count": 353,
   "metadata": {
    "id": "HFtdKOdG62hS"
   },
   "outputs": [
    {
     "data": {
      "text/plain": [
       "<AxesSubplot:>"
      ]
     },
     "execution_count": 353,
     "metadata": {},
     "output_type": "execute_result"
    },
    {
     "data": {
      "image/png": "[encoded data removed]",
      "text/plain": [
       "<Figure size 640x480 with 2 Axes>"
      ]
     },
     "metadata": {},
     "output_type": "display_data"
    }
   ],
   "source": [
    "sns.heatmap(X_train.corr())\n",
    "# Lenght1, Lenght2, Lenght3 - наиболее коррелированны между собой"
   ]
  },
  {
   "cell_type": "markdown",
   "metadata": {
    "id": "Cx1RHggagRLr"
   },
   "source": [
    "Линейные модели достаточно плохо реагируют на коррелированные признаки, поэтому от таких признаков имеет смысл избавиться еще до начала обучения."
   ]
  },
  {
   "cell_type": "markdown",
   "metadata": {
    "id": "e6AquRcu7Gvb"
   },
   "source": [
    "Для уменьшения количества неинформативных измерений используйте метод главных компонент. \n",
    "\n",
    "1) Примените метод главных компонент (<code>PCA(n_components=3, svd_solver='full')</code>) для трех найденных наиболее коррелированных признаков. \n",
    "\n",
    "2) Вычислите долю объясненной дисперсии при использовании только первой главной компоненты. \n",
    "\n",
    "3) Замените три наиболее коррелированных признака на новый признак <code>Lengths</code>, значения которого совпадают со значениями счетов первой главной компоненты."
   ]
  },
  {
   "cell_type": "code",
   "execution_count": 354,
   "metadata": {},
   "outputs": [
    {
     "data": {
      "text/plain": [
       "0.9960262957484168"
      ]
     },
     "execution_count": 354,
     "metadata": {},
     "output_type": "execute_result"
    }
   ],
   "source": [
    "correlated_features = X_train[['Length1', 'Length2', 'Length3']]\n",
    "pca = PCA(n_components=3, svd_solver='full')\n",
    "principal_components = pca.fit_transform(correlated_features)\n",
    "pca.explained_variance_ratio_[0]"
   ]
  },
  {
   "cell_type": "code",
   "execution_count": 355,
   "metadata": {},
   "outputs": [],
   "source": [
    "X_train['Lengths'] = principal_components[:, 0]\n",
    "X_train = X_train.drop(columns=['Length1', 'Length2', 'Length3'])"
   ]
  },
  {
   "cell_type": "markdown",
   "metadata": {
    "id": "kDrK2-Nd_ogF"
   },
   "source": [
    "Примените полученное преобразование для тех же признаков в тестовом наборе данных. Обратите внимание, что заново обучать преобразование `PCA` не нужно. Аналогично предыдущему этапу замените три рассмотренных признака на один."
   ]
  },
  {
   "cell_type": "code",
   "execution_count": 356,
   "metadata": {
    "id": "xEOAkMFf-T5m"
   },
   "outputs": [],
   "source": [
    "correlated_features = X_test[['Length1', 'Length2', 'Length3']]\n",
    "principal_components = pca.transform(correlated_features)\n",
    "pca.explained_variance_ratio_[0]\n",
    "X_test['Lengths'] = principal_components[:, 0]\n",
    "X_test = X_test.drop(columns=['Length1', 'Length2', 'Length3'])"
   ]
  },
  {
   "cell_type": "markdown",
   "metadata": {
    "id": "NGiPC64DAmRb"
   },
   "source": [
    "Обучите базовую модель линейной регресси на полученных тренировочных данных, снова выбросив категориальные признаки. Выполните предсказания для тестовых данных, оцените при помощи <code>r2_score()</code>."
   ]
  },
  {
   "cell_type": "code",
   "execution_count": 357,
   "metadata": {
    "id": "EVu8wL6QA1Ci"
   },
   "outputs": [],
   "source": [
    "simple_lr = LinearRegression()\n",
    "simple_lr.fit(X_train,y_train)\n",
    "predicted_y = simple_lr.predict(X_test)"
   ]
  },
  {
   "cell_type": "code",
   "execution_count": 358,
   "metadata": {},
   "outputs": [
    {
     "data": {
      "text/plain": [
       "0.833"
      ]
     },
     "execution_count": 358,
     "metadata": {},
     "output_type": "execute_result"
    }
   ],
   "source": [
    " round(r2_score(y_test, predicted_y), 3)"
   ]
  },
  {
   "cell_type": "markdown",
   "metadata": {
    "id": "BFPWkxOnieem"
   },
   "source": [
    "Видно, что точность значительно не изменилась."
   ]
  },
  {
   "cell_type": "markdown",
   "metadata": {
    "id": "hJm3yq--BcT7"
   },
   "source": [
    "## Модификация признаков"
   ]
  },
  {
   "cell_type": "markdown",
   "metadata": {
    "id": "T11p0ltmEFwR"
   },
   "source": [
    "Постройте графики зависимостей признаков от целевой переменной, например, при помощи <code>sns.pairplot()</code>."
   ]
  },
  {
   "cell_type": "code",
   "execution_count": 359,
   "metadata": {
    "id": "0rifKCoWEQYj"
   },
   "outputs": [
    {
     "data": {
      "text/html": [
       "<div>\n",
       "<style scoped>\n",
       "    .dataframe tbody tr th:only-of-type {\n",
       "        vertical-align: middle;\n",
       "    }\n",
       "\n",
       "    .dataframe tbody tr th {\n",
       "        vertical-align: top;\n",
       "    }\n",
       "\n",
       "    .dataframe thead th {\n",
       "        text-align: right;\n",
       "    }\n",
       "</style>\n",
       "<table border=\"1\" class=\"dataframe\">\n",
       "  <thead>\n",
       "    <tr style=\"text-align: right;\">\n",
       "      <th></th>\n",
       "      <th>Height</th>\n",
       "      <th>Width</th>\n",
       "      <th>Lengths</th>\n",
       "      <th>Weight</th>\n",
       "    </tr>\n",
       "  </thead>\n",
       "  <tbody>\n",
       "    <tr>\n",
       "      <th>24</th>\n",
       "      <td>14.3714</td>\n",
       "      <td>4.8146</td>\n",
       "      <td>6.271429</td>\n",
       "      <td>500.0</td>\n",
       "    </tr>\n",
       "    <tr>\n",
       "      <th>72</th>\n",
       "      <td>9.4850</td>\n",
       "      <td>5.3550</td>\n",
       "      <td>6.356849</td>\n",
       "      <td>390.0</td>\n",
       "    </tr>\n",
       "    <tr>\n",
       "      <th>46</th>\n",
       "      <td>5.6166</td>\n",
       "      <td>3.1746</td>\n",
       "      <td>-14.454194</td>\n",
       "      <td>87.0</td>\n",
       "    </tr>\n",
       "    <tr>\n",
       "      <th>55</th>\n",
       "      <td>7.6800</td>\n",
       "      <td>5.3760</td>\n",
       "      <td>33.940884</td>\n",
       "      <td>770.0</td>\n",
       "    </tr>\n",
       "    <tr>\n",
       "      <th>36</th>\n",
       "      <td>2.2139</td>\n",
       "      <td>1.2838</td>\n",
       "      <td>-28.379066</td>\n",
       "      <td>10.0</td>\n",
       "    </tr>\n",
       "    <tr>\n",
       "      <th>...</th>\n",
       "      <td>...</td>\n",
       "      <td>...</td>\n",
       "      <td>...</td>\n",
       "      <td>...</td>\n",
       "    </tr>\n",
       "    <tr>\n",
       "      <th>35</th>\n",
       "      <td>8.9262</td>\n",
       "      <td>6.1712</td>\n",
       "      <td>40.354843</td>\n",
       "      <td>950.0</td>\n",
       "    </tr>\n",
       "    <tr>\n",
       "      <th>79</th>\n",
       "      <td>7.0516</td>\n",
       "      <td>4.3350</td>\n",
       "      <td>-2.029335</td>\n",
       "      <td>265.0</td>\n",
       "    </tr>\n",
       "    <tr>\n",
       "      <th>49</th>\n",
       "      <td>9.7364</td>\n",
       "      <td>3.1571</td>\n",
       "      <td>-11.444533</td>\n",
       "      <td>145.0</td>\n",
       "    </tr>\n",
       "    <tr>\n",
       "      <th>47</th>\n",
       "      <td>12.7300</td>\n",
       "      <td>4.4555</td>\n",
       "      <td>2.165520</td>\n",
       "      <td>363.0</td>\n",
       "    </tr>\n",
       "    <tr>\n",
       "      <th>92</th>\n",
       "      <td>16.2405</td>\n",
       "      <td>5.5890</td>\n",
       "      <td>12.945075</td>\n",
       "      <td>700.0</td>\n",
       "    </tr>\n",
       "  </tbody>\n",
       "</table>\n",
       "<p>95 rows × 4 columns</p>\n",
       "</div>"
      ],
      "text/plain": [
       "     Height   Width    Lengths  Weight\n",
       "24  14.3714  4.8146   6.271429   500.0\n",
       "72   9.4850  5.3550   6.356849   390.0\n",
       "46   5.6166  3.1746 -14.454194    87.0\n",
       "55   7.6800  5.3760  33.940884   770.0\n",
       "36   2.2139  1.2838 -28.379066    10.0\n",
       "..      ...     ...        ...     ...\n",
       "35   8.9262  6.1712  40.354843   950.0\n",
       "79   7.0516  4.3350  -2.029335   265.0\n",
       "49   9.7364  3.1571 -11.444533   145.0\n",
       "47  12.7300  4.4555   2.165520   363.0\n",
       "92  16.2405  5.5890  12.945075   700.0\n",
       "\n",
       "[95 rows x 4 columns]"
      ]
     },
     "execution_count": 359,
     "metadata": {},
     "output_type": "execute_result"
    }
   ],
   "source": [
    "X_train['Weight'] = y_train\n",
    "X_train"
   ]
  },
  {
   "cell_type": "code",
   "execution_count": 360,
   "metadata": {},
   "outputs": [
    {
     "data": {
      "text/plain": [
       "<seaborn.axisgrid.PairGrid at 0x214b33064c0>"
      ]
     },
     "execution_count": 360,
     "metadata": {},
     "output_type": "execute_result"
    },
    {
     "data": {
      "image/png": "[encoded data removed]",
      "text/plain": [
       "<Figure size 1000x1000 with 20 Axes>"
      ]
     },
     "metadata": {},
     "output_type": "display_data"
    }
   ],
   "source": [
    "sns.pairplot(X_train)"
   ]
  },
  {
   "cell_type": "markdown",
   "metadata": {
    "id": "L-v73i1vhi_9"
   },
   "source": [
    "Видно, что масса, вообще говоря, нелинейно зависит от остальных параметров. Значит, чтобы линейная модель хорошо справлялась с предсказанием, признаки имеет смысл преобразовать так, чтобы зависимость стала более похожей на линейную. Но как придумать такую зависимость?"
   ]
  },
  {
   "cell_type": "markdown",
   "metadata": {
    "id": "sSIndS-yCP6P"
   },
   "source": [
    "Логично предположить, что масса рыбы должна каким-то гладким образом зависеть от остальных параметров, отвечающих так или иначе за размеры. Если впомнить, что масса — это произведение плотности на объем, то\n",
    "\n",
    "$$\n",
    "m = \\rho \\cdot V.\n",
    "$$\n",
    "\n",
    "Допустим, что средняя плотность у всех рыб одинаковая, и вспомним, что при гомотетии объем объекта зависит от линейных размеров как куб, тогда получим\n",
    "\n",
    "$$\n",
    "m\\sim V\\sim d^3\n",
    "$$\n",
    "\n",
    "Все признаки тренировочного и тестового наборов данных, отвечающие так или иначе за размеры (<code>Height, Width, Lengths</code>), возведите в третью степень, и проверьте, стала ли зависимость массы от этих признаков похожа на линейную."
   ]
  },
  {
   "cell_type": "code",
   "execution_count": 361,
   "metadata": {
    "id": "DOK0OyLVEmrh"
   },
   "outputs": [],
   "source": [
    "X_train[['Height', 'Width', 'Lengths']] = X_train[['Height', 'Width', 'Lengths']] ** 3"
   ]
  },
  {
   "cell_type": "markdown",
   "metadata": {
    "id": "Jm-1XAOpE_Dc"
   },
   "source": [
    "Введите выборочное среднее колонки <code>Width</code> тренировочного набора данных после возведения в куб."
   ]
  },
  {
   "cell_type": "code",
   "execution_count": 362,
   "metadata": {
    "id": "5-2zYkgWGCFN"
   },
   "outputs": [
    {
     "data": {
      "text/plain": [
       "121.365"
      ]
     },
     "execution_count": 362,
     "metadata": {},
     "output_type": "execute_result"
    }
   ],
   "source": [
    "round(X_train['Width'].mean(), 3)"
   ]
  },
  {
   "cell_type": "code",
   "execution_count": 363,
   "metadata": {},
   "outputs": [
    {
     "data": {
      "text/plain": [
       "<seaborn.axisgrid.PairGrid at 0x214b41f9eb0>"
      ]
     },
     "execution_count": 363,
     "metadata": {},
     "output_type": "execute_result"
    },
    {
     "data": {
      "image/png": "[encoded data removed]",
      "text/plain": [
       "<Figure size 1000x1000 with 20 Axes>"
      ]
     },
     "metadata": {},
     "output_type": "display_data"
    }
   ],
   "source": [
    "sns.pairplot(X_train)"
   ]
  },
  {
   "cell_type": "markdown",
   "metadata": {
    "id": "PCKM-CcQjfH5"
   },
   "source": [
    "Выберите изображения, соответствующие зависимости <code>Weight</code> от <code>Width</code> до преобразования и после."
   ]
  },
  {
   "cell_type": "markdown",
   "metadata": {
    "id": "NZtrdFamiTl1"
   },
   "source": [
    "Обучите базовую модель линейной регресси на полученных тренировочных данных, снова выбросив категориальные признаки. Выполните предсказания для тестовых данных, оцените при помощи `r2_score()`."
   ]
  },
  {
   "cell_type": "code",
   "execution_count": 364,
   "metadata": {},
   "outputs": [],
   "source": [
    "X_test[['Height', 'Width', 'Lengths']] = X_test[['Height', 'Width', 'Lengths']] ** 3"
   ]
  },
  {
   "cell_type": "code",
   "execution_count": 365,
   "metadata": {
    "id": "ybKUGN-GGUoH"
   },
   "outputs": [
    {
     "data": {
      "text/plain": [
       "0.943"
      ]
     },
     "execution_count": 365,
     "metadata": {},
     "output_type": "execute_result"
    }
   ],
   "source": [
    "simple_lr = LinearRegression()\n",
    "simple_lr.fit(X_train[['Height', 'Width', 'Lengths']],y_train)\n",
    "predicted_y = simple_lr.predict(X_test)\n",
    "round(r2_score(y_test, predicted_y), 3)"
   ]
  },
  {
   "cell_type": "markdown",
   "metadata": {
    "id": "WReH7dKZirOt"
   },
   "source": [
    "Обратите внимание на то, как такая нехитрая работа с признаками помогла разительно улучшить точность модели!"
   ]
  },
  {
   "cell_type": "markdown",
   "metadata": {
    "id": "MesFzgX1Sqgz"
   },
   "source": [
    "## Добавление категориальных признаков"
   ]
  },
  {
   "cell_type": "markdown",
   "metadata": {
    "id": "VThVRIkvSuV0"
   },
   "source": [
    "Произведите <code>one-hot</code> кодировние категориального признака `Species`, например, с помощью <code>pd.get_dummies()</code>.\n",
    "\n",
    "Обучите модель линейной регресси на полученных тренировочных данных. Выполните предсказания для тестовых данных, оцените модель при помощи <code>r2_score()</code>.\n",
    "\n",
    "<b>Примечание</b>: Мы специально использовали стратифицированное разделение, чтобы все значения категориального признака <code>Species</code> присутствовали во всех наборах данных. Но такое возможно не всегда. Про то, как с этим бороться можно почитать, [например, здесь](https://predictivehacks.com/?all-tips=how-to-deal-with-get_dummies-in-train-and-test-dataset)."
   ]
  },
  {
   "cell_type": "code",
   "execution_count": null,
   "metadata": {},
   "outputs": [],
   "source": [
    "X_train_with_cat = X_train[['Height', 'Width', 'Lengths']].join(X_train_cat)\n",
    "X_test_with_cat = X_test[['Height', 'Width', 'Lengths']].join(X_test_cat)"
   ]
  },
  {
   "cell_type": "code",
   "execution_count": null,
   "metadata": {},
   "outputs": [],
   "source": [
    "simple_lr = LinearRegression()\n",
    "simple_lr.fit(X_train_with_cat,y_train)\n",
    "predicted_y = simple_lr.predict(X_test_with_cat)\n",
    "round(r2_score(y_test, predicted_y), 3)"
   ]
  },
  {
   "cell_type": "markdown",
   "metadata": {
    "id": "vciWw1gajo5H"
   },
   "source": [
    "Как можно увидеть, после `one-hot` кодирования признаки стали коррелированы. От этого можно избавиться, например, при помощи параметра `drop_first=True`. Заново обучите модель после исправления этого недочета. Выполните предсказания для тестовых данных, оцените модель при помощи <code>r2_score()</code>."
   ]
  },
  {
   "cell_type": "code",
   "execution_count": 177,
   "metadata": {
    "id": "zV6u-Ha1kH3p"
   },
   "outputs": [],
   "source": []
  },
  {
   "cell_type": "markdown",
   "metadata": {
    "id": "ABS2Tw6tkSW5"
   },
   "source": [
    "На таком сравнительно небольшом наборе данных, впрочем, разницы мы не видим."
   ]
  },
  {
   "cell_type": "markdown",
   "metadata": {},
   "source": [
    "Используя весь датасет из предыдущего задания как обучающий, выполните предсказания для следующего набора данных. В качестве метрики используется r2_score."
   ]
  },
  {
   "cell_type": "code",
   "execution_count": 391,
   "metadata": {},
   "outputs": [
    {
     "data": {
      "text/html": [
       "<div>\n",
       "<style scoped>\n",
       "    .dataframe tbody tr th:only-of-type {\n",
       "        vertical-align: middle;\n",
       "    }\n",
       "\n",
       "    .dataframe tbody tr th {\n",
       "        vertical-align: top;\n",
       "    }\n",
       "\n",
       "    .dataframe thead th {\n",
       "        text-align: right;\n",
       "    }\n",
       "</style>\n",
       "<table border=\"1\" class=\"dataframe\">\n",
       "  <thead>\n",
       "    <tr style=\"text-align: right;\">\n",
       "      <th></th>\n",
       "      <th>Species</th>\n",
       "      <th>Length1</th>\n",
       "      <th>Length2</th>\n",
       "      <th>Length3</th>\n",
       "      <th>Height</th>\n",
       "      <th>Width</th>\n",
       "    </tr>\n",
       "  </thead>\n",
       "  <tbody>\n",
       "    <tr>\n",
       "      <th>0</th>\n",
       "      <td>Roach</td>\n",
       "      <td>19.4</td>\n",
       "      <td>21.0</td>\n",
       "      <td>23.7</td>\n",
       "      <td>6.1146</td>\n",
       "      <td>3.2943</td>\n",
       "    </tr>\n",
       "    <tr>\n",
       "      <th>1</th>\n",
       "      <td>Perch</td>\n",
       "      <td>19.3</td>\n",
       "      <td>21.3</td>\n",
       "      <td>22.8</td>\n",
       "      <td>6.3840</td>\n",
       "      <td>3.5340</td>\n",
       "    </tr>\n",
       "    <tr>\n",
       "      <th>2</th>\n",
       "      <td>Perch</td>\n",
       "      <td>17.2</td>\n",
       "      <td>19.0</td>\n",
       "      <td>20.2</td>\n",
       "      <td>5.6358</td>\n",
       "      <td>3.0502</td>\n",
       "    </tr>\n",
       "    <tr>\n",
       "      <th>3</th>\n",
       "      <td>Parkki</td>\n",
       "      <td>17.5</td>\n",
       "      <td>19.0</td>\n",
       "      <td>21.3</td>\n",
       "      <td>8.3922</td>\n",
       "      <td>2.9181</td>\n",
       "    </tr>\n",
       "    <tr>\n",
       "      <th>4</th>\n",
       "      <td>Parkki</td>\n",
       "      <td>16.3</td>\n",
       "      <td>17.7</td>\n",
       "      <td>19.8</td>\n",
       "      <td>7.4052</td>\n",
       "      <td>2.6730</td>\n",
       "    </tr>\n",
       "    <tr>\n",
       "      <th>5</th>\n",
       "      <td>Perch</td>\n",
       "      <td>22.0</td>\n",
       "      <td>24.0</td>\n",
       "      <td>25.5</td>\n",
       "      <td>7.2930</td>\n",
       "      <td>3.7230</td>\n",
       "    </tr>\n",
       "    <tr>\n",
       "      <th>6</th>\n",
       "      <td>Perch</td>\n",
       "      <td>15.0</td>\n",
       "      <td>16.2</td>\n",
       "      <td>17.2</td>\n",
       "      <td>4.5924</td>\n",
       "      <td>2.6316</td>\n",
       "    </tr>\n",
       "    <tr>\n",
       "      <th>7</th>\n",
       "      <td>Pike</td>\n",
       "      <td>40.0</td>\n",
       "      <td>42.5</td>\n",
       "      <td>45.5</td>\n",
       "      <td>6.8250</td>\n",
       "      <td>4.4590</td>\n",
       "    </tr>\n",
       "    <tr>\n",
       "      <th>8</th>\n",
       "      <td>Bream</td>\n",
       "      <td>27.6</td>\n",
       "      <td>30.0</td>\n",
       "      <td>35.0</td>\n",
       "      <td>12.6700</td>\n",
       "      <td>4.6900</td>\n",
       "    </tr>\n",
       "    <tr>\n",
       "      <th>9</th>\n",
       "      <td>Roach</td>\n",
       "      <td>18.6</td>\n",
       "      <td>20.0</td>\n",
       "      <td>22.2</td>\n",
       "      <td>6.2160</td>\n",
       "      <td>3.5742</td>\n",
       "    </tr>\n",
       "    <tr>\n",
       "      <th>10</th>\n",
       "      <td>Pike</td>\n",
       "      <td>59.0</td>\n",
       "      <td>63.4</td>\n",
       "      <td>68.0</td>\n",
       "      <td>10.8120</td>\n",
       "      <td>7.4800</td>\n",
       "    </tr>\n",
       "    <tr>\n",
       "      <th>11</th>\n",
       "      <td>Perch</td>\n",
       "      <td>23.0</td>\n",
       "      <td>25.0</td>\n",
       "      <td>26.5</td>\n",
       "      <td>6.4395</td>\n",
       "      <td>3.6835</td>\n",
       "    </tr>\n",
       "    <tr>\n",
       "      <th>12</th>\n",
       "      <td>Bream</td>\n",
       "      <td>31.3</td>\n",
       "      <td>34.0</td>\n",
       "      <td>39.5</td>\n",
       "      <td>15.1285</td>\n",
       "      <td>5.5695</td>\n",
       "    </tr>\n",
       "    <tr>\n",
       "      <th>13</th>\n",
       "      <td>Perch</td>\n",
       "      <td>41.1</td>\n",
       "      <td>44.0</td>\n",
       "      <td>46.6</td>\n",
       "      <td>12.4888</td>\n",
       "      <td>7.5958</td>\n",
       "    </tr>\n",
       "    <tr>\n",
       "      <th>14</th>\n",
       "      <td>Perch</td>\n",
       "      <td>12.5</td>\n",
       "      <td>13.7</td>\n",
       "      <td>14.7</td>\n",
       "      <td>3.5280</td>\n",
       "      <td>1.9992</td>\n",
       "    </tr>\n",
       "    <tr>\n",
       "      <th>15</th>\n",
       "      <td>Bream</td>\n",
       "      <td>31.5</td>\n",
       "      <td>34.5</td>\n",
       "      <td>39.7</td>\n",
       "      <td>15.5227</td>\n",
       "      <td>5.2801</td>\n",
       "    </tr>\n",
       "    <tr>\n",
       "      <th>16</th>\n",
       "      <td>Roach</td>\n",
       "      <td>21.0</td>\n",
       "      <td>22.5</td>\n",
       "      <td>25.0</td>\n",
       "      <td>6.5500</td>\n",
       "      <td>3.3250</td>\n",
       "    </tr>\n",
       "    <tr>\n",
       "      <th>17</th>\n",
       "      <td>Bream</td>\n",
       "      <td>32.8</td>\n",
       "      <td>36.0</td>\n",
       "      <td>41.6</td>\n",
       "      <td>16.8896</td>\n",
       "      <td>6.1984</td>\n",
       "    </tr>\n",
       "    <tr>\n",
       "      <th>18</th>\n",
       "      <td>Pike</td>\n",
       "      <td>56.0</td>\n",
       "      <td>60.0</td>\n",
       "      <td>64.0</td>\n",
       "      <td>9.6000</td>\n",
       "      <td>6.1440</td>\n",
       "    </tr>\n",
       "    <tr>\n",
       "      <th>19</th>\n",
       "      <td>Perch</td>\n",
       "      <td>17.8</td>\n",
       "      <td>19.6</td>\n",
       "      <td>20.8</td>\n",
       "      <td>5.1376</td>\n",
       "      <td>3.0368</td>\n",
       "    </tr>\n",
       "    <tr>\n",
       "      <th>20</th>\n",
       "      <td>Bream</td>\n",
       "      <td>30.9</td>\n",
       "      <td>33.5</td>\n",
       "      <td>38.6</td>\n",
       "      <td>15.6330</td>\n",
       "      <td>5.1338</td>\n",
       "    </tr>\n",
       "    <tr>\n",
       "      <th>21</th>\n",
       "      <td>Roach</td>\n",
       "      <td>22.1</td>\n",
       "      <td>23.5</td>\n",
       "      <td>26.8</td>\n",
       "      <td>7.3968</td>\n",
       "      <td>4.1272</td>\n",
       "    </tr>\n",
       "    <tr>\n",
       "      <th>22</th>\n",
       "      <td>Perch</td>\n",
       "      <td>16.8</td>\n",
       "      <td>18.7</td>\n",
       "      <td>19.4</td>\n",
       "      <td>5.1992</td>\n",
       "      <td>3.1234</td>\n",
       "    </tr>\n",
       "    <tr>\n",
       "      <th>23</th>\n",
       "      <td>Perch</td>\n",
       "      <td>22.0</td>\n",
       "      <td>24.0</td>\n",
       "      <td>25.5</td>\n",
       "      <td>6.3750</td>\n",
       "      <td>3.8250</td>\n",
       "    </tr>\n",
       "    <tr>\n",
       "      <th>24</th>\n",
       "      <td>Pike</td>\n",
       "      <td>32.7</td>\n",
       "      <td>35.0</td>\n",
       "      <td>38.8</td>\n",
       "      <td>5.9364</td>\n",
       "      <td>4.3844</td>\n",
       "    </tr>\n",
       "    <tr>\n",
       "      <th>25</th>\n",
       "      <td>Perch</td>\n",
       "      <td>32.0</td>\n",
       "      <td>34.5</td>\n",
       "      <td>36.5</td>\n",
       "      <td>10.2565</td>\n",
       "      <td>6.3875</td>\n",
       "    </tr>\n",
       "    <tr>\n",
       "      <th>26</th>\n",
       "      <td>Whitefish</td>\n",
       "      <td>25.6</td>\n",
       "      <td>28.0</td>\n",
       "      <td>30.8</td>\n",
       "      <td>8.7780</td>\n",
       "      <td>4.6816</td>\n",
       "    </tr>\n",
       "    <tr>\n",
       "      <th>27</th>\n",
       "      <td>Smelt</td>\n",
       "      <td>11.5</td>\n",
       "      <td>12.2</td>\n",
       "      <td>13.4</td>\n",
       "      <td>2.0904</td>\n",
       "      <td>1.3936</td>\n",
       "    </tr>\n",
       "    <tr>\n",
       "      <th>28</th>\n",
       "      <td>Smelt</td>\n",
       "      <td>13.8</td>\n",
       "      <td>15.0</td>\n",
       "      <td>16.2</td>\n",
       "      <td>2.9322</td>\n",
       "      <td>1.8792</td>\n",
       "    </tr>\n",
       "    <tr>\n",
       "      <th>29</th>\n",
       "      <td>Smelt</td>\n",
       "      <td>10.1</td>\n",
       "      <td>10.6</td>\n",
       "      <td>11.6</td>\n",
       "      <td>1.7284</td>\n",
       "      <td>1.1484</td>\n",
       "    </tr>\n",
       "    <tr>\n",
       "      <th>30</th>\n",
       "      <td>Bream</td>\n",
       "      <td>38.0</td>\n",
       "      <td>41.0</td>\n",
       "      <td>46.5</td>\n",
       "      <td>17.6235</td>\n",
       "      <td>6.3705</td>\n",
       "    </tr>\n",
       "    <tr>\n",
       "      <th>31</th>\n",
       "      <td>Bream</td>\n",
       "      <td>26.8</td>\n",
       "      <td>29.7</td>\n",
       "      <td>34.5</td>\n",
       "      <td>14.1795</td>\n",
       "      <td>5.2785</td>\n",
       "    </tr>\n",
       "    <tr>\n",
       "      <th>32</th>\n",
       "      <td>Bream</td>\n",
       "      <td>29.4</td>\n",
       "      <td>32.0</td>\n",
       "      <td>37.2</td>\n",
       "      <td>14.9544</td>\n",
       "      <td>5.1708</td>\n",
       "    </tr>\n",
       "    <tr>\n",
       "      <th>33</th>\n",
       "      <td>Parkki</td>\n",
       "      <td>19.0</td>\n",
       "      <td>20.7</td>\n",
       "      <td>23.2</td>\n",
       "      <td>9.3960</td>\n",
       "      <td>3.4104</td>\n",
       "    </tr>\n",
       "    <tr>\n",
       "      <th>34</th>\n",
       "      <td>Smelt</td>\n",
       "      <td>12.1</td>\n",
       "      <td>13.0</td>\n",
       "      <td>13.8</td>\n",
       "      <td>2.2770</td>\n",
       "      <td>1.2558</td>\n",
       "    </tr>\n",
       "    <tr>\n",
       "      <th>35</th>\n",
       "      <td>Roach</td>\n",
       "      <td>17.5</td>\n",
       "      <td>18.8</td>\n",
       "      <td>21.2</td>\n",
       "      <td>5.5756</td>\n",
       "      <td>2.9044</td>\n",
       "    </tr>\n",
       "    <tr>\n",
       "      <th>36</th>\n",
       "      <td>Perch</td>\n",
       "      <td>20.0</td>\n",
       "      <td>22.0</td>\n",
       "      <td>23.5</td>\n",
       "      <td>5.8750</td>\n",
       "      <td>3.5250</td>\n",
       "    </tr>\n",
       "    <tr>\n",
       "      <th>37</th>\n",
       "      <td>Perch</td>\n",
       "      <td>37.0</td>\n",
       "      <td>40.0</td>\n",
       "      <td>42.4</td>\n",
       "      <td>12.3808</td>\n",
       "      <td>7.4624</td>\n",
       "    </tr>\n",
       "    <tr>\n",
       "      <th>38</th>\n",
       "      <td>Bream</td>\n",
       "      <td>31.8</td>\n",
       "      <td>35.0</td>\n",
       "      <td>40.9</td>\n",
       "      <td>16.3600</td>\n",
       "      <td>6.0532</td>\n",
       "    </tr>\n",
       "    <tr>\n",
       "      <th>39</th>\n",
       "      <td>Perch</td>\n",
       "      <td>20.5</td>\n",
       "      <td>22.5</td>\n",
       "      <td>24.0</td>\n",
       "      <td>5.8560</td>\n",
       "      <td>3.6240</td>\n",
       "    </tr>\n",
       "  </tbody>\n",
       "</table>\n",
       "</div>"
      ],
      "text/plain": [
       "      Species  Length1  Length2  Length3   Height   Width\n",
       "0       Roach     19.4     21.0     23.7   6.1146  3.2943\n",
       "1       Perch     19.3     21.3     22.8   6.3840  3.5340\n",
       "2       Perch     17.2     19.0     20.2   5.6358  3.0502\n",
       "3      Parkki     17.5     19.0     21.3   8.3922  2.9181\n",
       "4      Parkki     16.3     17.7     19.8   7.4052  2.6730\n",
       "5       Perch     22.0     24.0     25.5   7.2930  3.7230\n",
       "6       Perch     15.0     16.2     17.2   4.5924  2.6316\n",
       "7        Pike     40.0     42.5     45.5   6.8250  4.4590\n",
       "8       Bream     27.6     30.0     35.0  12.6700  4.6900\n",
       "9       Roach     18.6     20.0     22.2   6.2160  3.5742\n",
       "10       Pike     59.0     63.4     68.0  10.8120  7.4800\n",
       "11      Perch     23.0     25.0     26.5   6.4395  3.6835\n",
       "12      Bream     31.3     34.0     39.5  15.1285  5.5695\n",
       "13      Perch     41.1     44.0     46.6  12.4888  7.5958\n",
       "14      Perch     12.5     13.7     14.7   3.5280  1.9992\n",
       "15      Bream     31.5     34.5     39.7  15.5227  5.2801\n",
       "16      Roach     21.0     22.5     25.0   6.5500  3.3250\n",
       "17      Bream     32.8     36.0     41.6  16.8896  6.1984\n",
       "18       Pike     56.0     60.0     64.0   9.6000  6.1440\n",
       "19      Perch     17.8     19.6     20.8   5.1376  3.0368\n",
       "20      Bream     30.9     33.5     38.6  15.6330  5.1338\n",
       "21      Roach     22.1     23.5     26.8   7.3968  4.1272\n",
       "22      Perch     16.8     18.7     19.4   5.1992  3.1234\n",
       "23      Perch     22.0     24.0     25.5   6.3750  3.8250\n",
       "24       Pike     32.7     35.0     38.8   5.9364  4.3844\n",
       "25      Perch     32.0     34.5     36.5  10.2565  6.3875\n",
       "26  Whitefish     25.6     28.0     30.8   8.7780  4.6816\n",
       "27      Smelt     11.5     12.2     13.4   2.0904  1.3936\n",
       "28      Smelt     13.8     15.0     16.2   2.9322  1.8792\n",
       "29      Smelt     10.1     10.6     11.6   1.7284  1.1484\n",
       "30      Bream     38.0     41.0     46.5  17.6235  6.3705\n",
       "31      Bream     26.8     29.7     34.5  14.1795  5.2785\n",
       "32      Bream     29.4     32.0     37.2  14.9544  5.1708\n",
       "33     Parkki     19.0     20.7     23.2   9.3960  3.4104\n",
       "34      Smelt     12.1     13.0     13.8   2.2770  1.2558\n",
       "35      Roach     17.5     18.8     21.2   5.5756  2.9044\n",
       "36      Perch     20.0     22.0     23.5   5.8750  3.5250\n",
       "37      Perch     37.0     40.0     42.4  12.3808  7.4624\n",
       "38      Bream     31.8     35.0     40.9  16.3600  6.0532\n",
       "39      Perch     20.5     22.5     24.0   5.8560  3.6240"
      ]
     },
     "execution_count": 391,
     "metadata": {},
     "output_type": "execute_result"
    }
   ],
   "source": [
    "file_path = 'C:/Users/Соня/OneDrive/Рабочий стол/jupyter/ml_online_course/lin_regr/fish_reserved.csv'\n",
    "df_ro = pd.read_csv(file_path)\n",
    "df_ro"
   ]
  },
  {
   "cell_type": "markdown",
   "metadata": {},
   "source": [
    "# Выполнение 3 задания"
   ]
  },
  {
   "cell_type": "code",
   "execution_count": 393,
   "metadata": {},
   "outputs": [],
   "source": [
    "file_path = 'C:/Users/Соня/OneDrive/Рабочий стол/jupyter/ml_online_course/lin_regr/fish_reserved.csv'\n",
    "df_r = pd.read_csv(file_path)\n",
    "df_r\n",
    "df_r_cat = pd.get_dummies(df_r['Species'], drop_first=True)"
   ]
  },
  {
   "cell_type": "code",
   "execution_count": 398,
   "metadata": {},
   "outputs": [
    {
     "data": {
      "text/html": [
       "<div>\n",
       "<style scoped>\n",
       "    .dataframe tbody tr th:only-of-type {\n",
       "        vertical-align: middle;\n",
       "    }\n",
       "\n",
       "    .dataframe tbody tr th {\n",
       "        vertical-align: top;\n",
       "    }\n",
       "\n",
       "    .dataframe thead th {\n",
       "        text-align: right;\n",
       "    }\n",
       "</style>\n",
       "<table border=\"1\" class=\"dataframe\">\n",
       "  <thead>\n",
       "    <tr style=\"text-align: right;\">\n",
       "      <th></th>\n",
       "      <th>Parkki</th>\n",
       "      <th>Perch</th>\n",
       "      <th>Pike</th>\n",
       "      <th>Roach</th>\n",
       "      <th>Smelt</th>\n",
       "      <th>Whitefish</th>\n",
       "    </tr>\n",
       "  </thead>\n",
       "  <tbody>\n",
       "    <tr>\n",
       "      <th>0</th>\n",
       "      <td>0</td>\n",
       "      <td>0</td>\n",
       "      <td>0</td>\n",
       "      <td>1</td>\n",
       "      <td>0</td>\n",
       "      <td>0</td>\n",
       "    </tr>\n",
       "    <tr>\n",
       "      <th>1</th>\n",
       "      <td>0</td>\n",
       "      <td>1</td>\n",
       "      <td>0</td>\n",
       "      <td>0</td>\n",
       "      <td>0</td>\n",
       "      <td>0</td>\n",
       "    </tr>\n",
       "    <tr>\n",
       "      <th>2</th>\n",
       "      <td>0</td>\n",
       "      <td>1</td>\n",
       "      <td>0</td>\n",
       "      <td>0</td>\n",
       "      <td>0</td>\n",
       "      <td>0</td>\n",
       "    </tr>\n",
       "    <tr>\n",
       "      <th>3</th>\n",
       "      <td>1</td>\n",
       "      <td>0</td>\n",
       "      <td>0</td>\n",
       "      <td>0</td>\n",
       "      <td>0</td>\n",
       "      <td>0</td>\n",
       "    </tr>\n",
       "    <tr>\n",
       "      <th>4</th>\n",
       "      <td>1</td>\n",
       "      <td>0</td>\n",
       "      <td>0</td>\n",
       "      <td>0</td>\n",
       "      <td>0</td>\n",
       "      <td>0</td>\n",
       "    </tr>\n",
       "  </tbody>\n",
       "</table>\n",
       "</div>"
      ],
      "text/plain": [
       "   Parkki  Perch  Pike  Roach  Smelt  Whitefish\n",
       "0       0      0     0      1      0          0\n",
       "1       0      1     0      0      0          0\n",
       "2       0      1     0      0      0          0\n",
       "3       1      0     0      0      0          0\n",
       "4       1      0     0      0      0          0"
      ]
     },
     "execution_count": 398,
     "metadata": {},
     "output_type": "execute_result"
    }
   ],
   "source": [
    "df_r_cat.head(5)"
   ]
  },
  {
   "cell_type": "code",
   "execution_count": 396,
   "metadata": {},
   "outputs": [
    {
     "data": {
      "text/html": [
       "<div>\n",
       "<style scoped>\n",
       "    .dataframe tbody tr th:only-of-type {\n",
       "        vertical-align: middle;\n",
       "    }\n",
       "\n",
       "    .dataframe tbody tr th {\n",
       "        vertical-align: top;\n",
       "    }\n",
       "\n",
       "    .dataframe thead th {\n",
       "        text-align: right;\n",
       "    }\n",
       "</style>\n",
       "<table border=\"1\" class=\"dataframe\">\n",
       "  <thead>\n",
       "    <tr style=\"text-align: right;\">\n",
       "      <th></th>\n",
       "      <th>Length1</th>\n",
       "      <th>Length2</th>\n",
       "      <th>Length3</th>\n",
       "      <th>Height</th>\n",
       "      <th>Width</th>\n",
       "    </tr>\n",
       "  </thead>\n",
       "  <tbody>\n",
       "    <tr>\n",
       "      <th>0</th>\n",
       "      <td>19.4</td>\n",
       "      <td>21.0</td>\n",
       "      <td>23.7</td>\n",
       "      <td>6.1146</td>\n",
       "      <td>3.2943</td>\n",
       "    </tr>\n",
       "    <tr>\n",
       "      <th>1</th>\n",
       "      <td>19.3</td>\n",
       "      <td>21.3</td>\n",
       "      <td>22.8</td>\n",
       "      <td>6.3840</td>\n",
       "      <td>3.5340</td>\n",
       "    </tr>\n",
       "    <tr>\n",
       "      <th>2</th>\n",
       "      <td>17.2</td>\n",
       "      <td>19.0</td>\n",
       "      <td>20.2</td>\n",
       "      <td>5.6358</td>\n",
       "      <td>3.0502</td>\n",
       "    </tr>\n",
       "    <tr>\n",
       "      <th>3</th>\n",
       "      <td>17.5</td>\n",
       "      <td>19.0</td>\n",
       "      <td>21.3</td>\n",
       "      <td>8.3922</td>\n",
       "      <td>2.9181</td>\n",
       "    </tr>\n",
       "    <tr>\n",
       "      <th>4</th>\n",
       "      <td>16.3</td>\n",
       "      <td>17.7</td>\n",
       "      <td>19.8</td>\n",
       "      <td>7.4052</td>\n",
       "      <td>2.6730</td>\n",
       "    </tr>\n",
       "  </tbody>\n",
       "</table>\n",
       "</div>"
      ],
      "text/plain": [
       "   Length1  Length2  Length3  Height   Width\n",
       "0     19.4     21.0     23.7  6.1146  3.2943\n",
       "1     19.3     21.3     22.8  6.3840  3.5340\n",
       "2     17.2     19.0     20.2  5.6358  3.0502\n",
       "3     17.5     19.0     21.3  8.3922  2.9181\n",
       "4     16.3     17.7     19.8  7.4052  2.6730"
      ]
     },
     "execution_count": 396,
     "metadata": {},
     "output_type": "execute_result"
    }
   ],
   "source": [
    "#df_r.head(5)\n",
    "df_r = df_r.drop(columns=['Species'])\n",
    "df_r.head(5)"
   ]
  },
  {
   "cell_type": "code",
   "execution_count": 399,
   "metadata": {},
   "outputs": [
    {
     "data": {
      "text/plain": [
       "0.9975288672371171"
      ]
     },
     "execution_count": 399,
     "metadata": {},
     "output_type": "execute_result"
    }
   ],
   "source": [
    "correlated_features = df_r[['Length1', 'Length2', 'Length3']]\n",
    "pca = PCA(n_components=3, svd_solver='full')\n",
    "principal_components = pca.fit_transform(correlated_features)\n",
    "pca.explained_variance_ratio_[0]"
   ]
  },
  {
   "cell_type": "code",
   "execution_count": 400,
   "metadata": {},
   "outputs": [],
   "source": [
    "df_r['Lengths'] = principal_components[:, 0]\n",
    "df_r = df_r.drop(columns=['Length1', 'Length2', 'Length3'])"
   ]
  },
  {
   "cell_type": "code",
   "execution_count": 402,
   "metadata": {},
   "outputs": [
    {
     "data": {
      "text/html": [
       "<div>\n",
       "<style scoped>\n",
       "    .dataframe tbody tr th:only-of-type {\n",
       "        vertical-align: middle;\n",
       "    }\n",
       "\n",
       "    .dataframe tbody tr th {\n",
       "        vertical-align: top;\n",
       "    }\n",
       "\n",
       "    .dataframe thead th {\n",
       "        text-align: right;\n",
       "    }\n",
       "</style>\n",
       "<table border=\"1\" class=\"dataframe\">\n",
       "  <thead>\n",
       "    <tr style=\"text-align: right;\">\n",
       "      <th></th>\n",
       "      <th>Height</th>\n",
       "      <th>Width</th>\n",
       "      <th>Lengths</th>\n",
       "    </tr>\n",
       "  </thead>\n",
       "  <tbody>\n",
       "    <tr>\n",
       "      <th>0</th>\n",
       "      <td>6.1146</td>\n",
       "      <td>3.2943</td>\n",
       "      <td>-10.713320</td>\n",
       "    </tr>\n",
       "    <tr>\n",
       "      <th>1</th>\n",
       "      <td>6.3840</td>\n",
       "      <td>3.5340</td>\n",
       "      <td>-11.157506</td>\n",
       "    </tr>\n",
       "    <tr>\n",
       "      <th>2</th>\n",
       "      <td>5.6358</td>\n",
       "      <td>3.0502</td>\n",
       "      <td>-15.213579</td>\n",
       "    </tr>\n",
       "    <tr>\n",
       "      <th>3</th>\n",
       "      <td>8.3922</td>\n",
       "      <td>2.9181</td>\n",
       "      <td>-14.366622</td>\n",
       "    </tr>\n",
       "    <tr>\n",
       "      <th>4</th>\n",
       "      <td>7.4052</td>\n",
       "      <td>2.6730</td>\n",
       "      <td>-16.685145</td>\n",
       "    </tr>\n",
       "  </tbody>\n",
       "</table>\n",
       "</div>"
      ],
      "text/plain": [
       "   Height   Width    Lengths\n",
       "0  6.1146  3.2943 -10.713320\n",
       "1  6.3840  3.5340 -11.157506\n",
       "2  5.6358  3.0502 -15.213579\n",
       "3  8.3922  2.9181 -14.366622\n",
       "4  7.4052  2.6730 -16.685145"
      ]
     },
     "execution_count": 402,
     "metadata": {},
     "output_type": "execute_result"
    }
   ],
   "source": [
    "df_r.head()"
   ]
  },
  {
   "cell_type": "code",
   "execution_count": 403,
   "metadata": {},
   "outputs": [],
   "source": [
    "df_r[['Height', 'Width', 'Lengths']] = df_r[['Height', 'Width', 'Lengths']] ** 3"
   ]
  },
  {
   "cell_type": "code",
   "execution_count": 412,
   "metadata": {},
   "outputs": [],
   "source": [
    "df_r.join(df_r_cat).head(5)\n",
    "cols = ['Parkki', 'Perch', 'Pike', 'Roach', 'Smelt','Whitefish']\n",
    "df_r['combined'] = df_r_cat[cols].apply(lambda row: '_'.join(row.values.astype(str)), axis=1)"
   ]
  },
  {
   "cell_type": "code",
   "execution_count": 413,
   "metadata": {},
   "outputs": [
    {
     "data": {
      "text/html": [
       "<div>\n",
       "<style scoped>\n",
       "    .dataframe tbody tr th:only-of-type {\n",
       "        vertical-align: middle;\n",
       "    }\n",
       "\n",
       "    .dataframe tbody tr th {\n",
       "        vertical-align: top;\n",
       "    }\n",
       "\n",
       "    .dataframe thead th {\n",
       "        text-align: right;\n",
       "    }\n",
       "</style>\n",
       "<table border=\"1\" class=\"dataframe\">\n",
       "  <thead>\n",
       "    <tr style=\"text-align: right;\">\n",
       "      <th></th>\n",
       "      <th>Height</th>\n",
       "      <th>Width</th>\n",
       "      <th>Lengths</th>\n",
       "      <th>combined</th>\n",
       "    </tr>\n",
       "  </thead>\n",
       "  <tbody>\n",
       "    <tr>\n",
       "      <th>0</th>\n",
       "      <td>228.614702</td>\n",
       "      <td>35.751102</td>\n",
       "      <td>-1229.623711</td>\n",
       "      <td>0_0_0_1_0_0</td>\n",
       "    </tr>\n",
       "    <tr>\n",
       "      <th>1</th>\n",
       "      <td>260.182831</td>\n",
       "      <td>44.136677</td>\n",
       "      <td>-1388.997359</td>\n",
       "      <td>0_1_0_0_0_0</td>\n",
       "    </tr>\n",
       "    <tr>\n",
       "      <th>2</th>\n",
       "      <td>179.005641</td>\n",
       "      <td>28.378207</td>\n",
       "      <td>-3521.228273</td>\n",
       "      <td>0_1_0_0_0_0</td>\n",
       "    </tr>\n",
       "    <tr>\n",
       "      <th>3</th>\n",
       "      <td>591.054429</td>\n",
       "      <td>24.848519</td>\n",
       "      <td>-2965.268241</td>\n",
       "      <td>1_0_0_0_0_0</td>\n",
       "    </tr>\n",
       "    <tr>\n",
       "      <th>4</th>\n",
       "      <td>406.078856</td>\n",
       "      <td>19.098395</td>\n",
       "      <td>-4645.044937</td>\n",
       "      <td>1_0_0_0_0_0</td>\n",
       "    </tr>\n",
       "  </tbody>\n",
       "</table>\n",
       "</div>"
      ],
      "text/plain": [
       "       Height      Width      Lengths     combined\n",
       "0  228.614702  35.751102 -1229.623711  0_0_0_1_0_0\n",
       "1  260.182831  44.136677 -1388.997359  0_1_0_0_0_0\n",
       "2  179.005641  28.378207 -3521.228273  0_1_0_0_0_0\n",
       "3  591.054429  24.848519 -2965.268241  1_0_0_0_0_0\n",
       "4  406.078856  19.098395 -4645.044937  1_0_0_0_0_0"
      ]
     },
     "execution_count": 413,
     "metadata": {},
     "output_type": "execute_result"
    }
   ],
   "source": [
    "df_r.head(5)"
   ]
  },
  {
   "cell_type": "markdown",
   "metadata": {},
   "source": [
    "Объединим наши данные"
   ]
  },
  {
   "cell_type": "code",
   "execution_count": 373,
   "metadata": {},
   "outputs": [
    {
     "data": {
      "text/html": [
       "<div>\n",
       "<style scoped>\n",
       "    .dataframe tbody tr th:only-of-type {\n",
       "        vertical-align: middle;\n",
       "    }\n",
       "\n",
       "    .dataframe tbody tr th {\n",
       "        vertical-align: top;\n",
       "    }\n",
       "\n",
       "    .dataframe thead th {\n",
       "        text-align: right;\n",
       "    }\n",
       "</style>\n",
       "<table border=\"1\" class=\"dataframe\">\n",
       "  <thead>\n",
       "    <tr style=\"text-align: right;\">\n",
       "      <th></th>\n",
       "      <th>Height</th>\n",
       "      <th>Width</th>\n",
       "      <th>Lengths</th>\n",
       "      <th>Parkki</th>\n",
       "      <th>Perch</th>\n",
       "      <th>Pike</th>\n",
       "      <th>Roach</th>\n",
       "      <th>Smelt</th>\n",
       "      <th>Whitefish</th>\n",
       "    </tr>\n",
       "  </thead>\n",
       "  <tbody>\n",
       "    <tr>\n",
       "      <th>24</th>\n",
       "      <td>2968.227824</td>\n",
       "      <td>111.604225</td>\n",
       "      <td>246.660404</td>\n",
       "      <td>0</td>\n",
       "      <td>0</td>\n",
       "      <td>0</td>\n",
       "      <td>0</td>\n",
       "      <td>0</td>\n",
       "      <td>0</td>\n",
       "    </tr>\n",
       "    <tr>\n",
       "      <th>72</th>\n",
       "      <td>853.320159</td>\n",
       "      <td>153.560114</td>\n",
       "      <td>256.877230</td>\n",
       "      <td>0</td>\n",
       "      <td>0</td>\n",
       "      <td>0</td>\n",
       "      <td>1</td>\n",
       "      <td>0</td>\n",
       "      <td>0</td>\n",
       "    </tr>\n",
       "    <tr>\n",
       "      <th>46</th>\n",
       "      <td>177.182362</td>\n",
       "      <td>31.993889</td>\n",
       "      <td>-3019.823898</td>\n",
       "      <td>0</td>\n",
       "      <td>0</td>\n",
       "      <td>0</td>\n",
       "      <td>1</td>\n",
       "      <td>0</td>\n",
       "      <td>0</td>\n",
       "    </tr>\n",
       "    <tr>\n",
       "      <th>55</th>\n",
       "      <td>452.984832</td>\n",
       "      <td>155.373797</td>\n",
       "      <td>39099.343371</td>\n",
       "      <td>0</td>\n",
       "      <td>0</td>\n",
       "      <td>1</td>\n",
       "      <td>0</td>\n",
       "      <td>0</td>\n",
       "      <td>0</td>\n",
       "    </tr>\n",
       "    <tr>\n",
       "      <th>36</th>\n",
       "      <td>10.851106</td>\n",
       "      <td>2.115885</td>\n",
       "      <td>-22855.688666</td>\n",
       "      <td>0</td>\n",
       "      <td>0</td>\n",
       "      <td>0</td>\n",
       "      <td>0</td>\n",
       "      <td>1</td>\n",
       "      <td>0</td>\n",
       "    </tr>\n",
       "    <tr>\n",
       "      <th>...</th>\n",
       "      <td>...</td>\n",
       "      <td>...</td>\n",
       "      <td>...</td>\n",
       "      <td>...</td>\n",
       "      <td>...</td>\n",
       "      <td>...</td>\n",
       "      <td>...</td>\n",
       "      <td>...</td>\n",
       "      <td>...</td>\n",
       "    </tr>\n",
       "    <tr>\n",
       "      <th>88</th>\n",
       "      <td>2746.882209</td>\n",
       "      <td>113.647166</td>\n",
       "      <td>86.762636</td>\n",
       "      <td>0</td>\n",
       "      <td>0</td>\n",
       "      <td>0</td>\n",
       "      <td>0</td>\n",
       "      <td>0</td>\n",
       "      <td>0</td>\n",
       "    </tr>\n",
       "    <tr>\n",
       "      <th>99</th>\n",
       "      <td>172.622610</td>\n",
       "      <td>38.463866</td>\n",
       "      <td>320.653728</td>\n",
       "      <td>0</td>\n",
       "      <td>0</td>\n",
       "      <td>1</td>\n",
       "      <td>0</td>\n",
       "      <td>0</td>\n",
       "      <td>0</td>\n",
       "    </tr>\n",
       "    <tr>\n",
       "      <th>66</th>\n",
       "      <td>427.706666</td>\n",
       "      <td>56.411033</td>\n",
       "      <td>-330.037912</td>\n",
       "      <td>0</td>\n",
       "      <td>0</td>\n",
       "      <td>0</td>\n",
       "      <td>1</td>\n",
       "      <td>0</td>\n",
       "      <td>0</td>\n",
       "    </tr>\n",
       "    <tr>\n",
       "      <th>82</th>\n",
       "      <td>884.736000</td>\n",
       "      <td>231.928234</td>\n",
       "      <td>164168.722209</td>\n",
       "      <td>0</td>\n",
       "      <td>0</td>\n",
       "      <td>1</td>\n",
       "      <td>0</td>\n",
       "      <td>0</td>\n",
       "      <td>0</td>\n",
       "    </tr>\n",
       "    <tr>\n",
       "      <th>109</th>\n",
       "      <td>305.283438</td>\n",
       "      <td>72.292833</td>\n",
       "      <td>-323.621301</td>\n",
       "      <td>0</td>\n",
       "      <td>1</td>\n",
       "      <td>0</td>\n",
       "      <td>0</td>\n",
       "      <td>0</td>\n",
       "      <td>0</td>\n",
       "    </tr>\n",
       "  </tbody>\n",
       "</table>\n",
       "<p>119 rows × 9 columns</p>\n",
       "</div>"
      ],
      "text/plain": [
       "          Height       Width        Lengths  Parkki  Perch  Pike  Roach  \\\n",
       "24   2968.227824  111.604225     246.660404       0      0     0      0   \n",
       "72    853.320159  153.560114     256.877230       0      0     0      1   \n",
       "46    177.182362   31.993889   -3019.823898       0      0     0      1   \n",
       "55    452.984832  155.373797   39099.343371       0      0     1      0   \n",
       "36     10.851106    2.115885  -22855.688666       0      0     0      0   \n",
       "..           ...         ...            ...     ...    ...   ...    ...   \n",
       "88   2746.882209  113.647166      86.762636       0      0     0      0   \n",
       "99    172.622610   38.463866     320.653728       0      0     1      0   \n",
       "66    427.706666   56.411033    -330.037912       0      0     0      1   \n",
       "82    884.736000  231.928234  164168.722209       0      0     1      0   \n",
       "109   305.283438   72.292833    -323.621301       0      1     0      0   \n",
       "\n",
       "     Smelt  Whitefish  \n",
       "24       0          0  \n",
       "72       0          0  \n",
       "46       0          0  \n",
       "55       0          0  \n",
       "36       1          0  \n",
       "..     ...        ...  \n",
       "88       0          0  \n",
       "99       0          0  \n",
       "66       0          0  \n",
       "82       0          0  \n",
       "109      0          0  \n",
       "\n",
       "[119 rows x 9 columns]"
      ]
     },
     "execution_count": 373,
     "metadata": {},
     "output_type": "execute_result"
    }
   ],
   "source": [
    "df_concat = pd.concat([X_train_with_cat, X_test_with_cat])\n",
    "df_concat = pd.DataFrame(df_concat)\n",
    "df_concat"
   ]
  },
  {
   "cell_type": "code",
   "execution_count": 414,
   "metadata": {},
   "outputs": [],
   "source": [
    "cols = ['Parkki', 'Perch', 'Pike', 'Roach', 'Smelt','Whitefish']\n",
    "df_concat['combined'] = df_concat[cols].apply(lambda row: '_'.join(row.values.astype(str)), axis=1)"
   ]
  },
  {
   "cell_type": "code",
   "execution_count": 418,
   "metadata": {},
   "outputs": [
    {
     "data": {
      "text/html": [
       "<div>\n",
       "<style scoped>\n",
       "    .dataframe tbody tr th:only-of-type {\n",
       "        vertical-align: middle;\n",
       "    }\n",
       "\n",
       "    .dataframe tbody tr th {\n",
       "        vertical-align: top;\n",
       "    }\n",
       "\n",
       "    .dataframe thead th {\n",
       "        text-align: right;\n",
       "    }\n",
       "</style>\n",
       "<table border=\"1\" class=\"dataframe\">\n",
       "  <thead>\n",
       "    <tr style=\"text-align: right;\">\n",
       "      <th></th>\n",
       "      <th>Height</th>\n",
       "      <th>Width</th>\n",
       "      <th>Lengths</th>\n",
       "      <th>combined</th>\n",
       "    </tr>\n",
       "  </thead>\n",
       "  <tbody>\n",
       "    <tr>\n",
       "      <th>24</th>\n",
       "      <td>2968.227824</td>\n",
       "      <td>111.604225</td>\n",
       "      <td>246.660404</td>\n",
       "      <td>0_0_0_0_0_0</td>\n",
       "    </tr>\n",
       "    <tr>\n",
       "      <th>72</th>\n",
       "      <td>853.320159</td>\n",
       "      <td>153.560114</td>\n",
       "      <td>256.877230</td>\n",
       "      <td>0_0_0_1_0_0</td>\n",
       "    </tr>\n",
       "    <tr>\n",
       "      <th>46</th>\n",
       "      <td>177.182362</td>\n",
       "      <td>31.993889</td>\n",
       "      <td>-3019.823898</td>\n",
       "      <td>0_0_0_1_0_0</td>\n",
       "    </tr>\n",
       "    <tr>\n",
       "      <th>55</th>\n",
       "      <td>452.984832</td>\n",
       "      <td>155.373797</td>\n",
       "      <td>39099.343371</td>\n",
       "      <td>0_0_1_0_0_0</td>\n",
       "    </tr>\n",
       "    <tr>\n",
       "      <th>36</th>\n",
       "      <td>10.851106</td>\n",
       "      <td>2.115885</td>\n",
       "      <td>-22855.688666</td>\n",
       "      <td>0_0_0_0_1_0</td>\n",
       "    </tr>\n",
       "    <tr>\n",
       "      <th>...</th>\n",
       "      <td>...</td>\n",
       "      <td>...</td>\n",
       "      <td>...</td>\n",
       "      <td>...</td>\n",
       "    </tr>\n",
       "    <tr>\n",
       "      <th>88</th>\n",
       "      <td>2746.882209</td>\n",
       "      <td>113.647166</td>\n",
       "      <td>86.762636</td>\n",
       "      <td>0_0_0_0_0_0</td>\n",
       "    </tr>\n",
       "    <tr>\n",
       "      <th>99</th>\n",
       "      <td>172.622610</td>\n",
       "      <td>38.463866</td>\n",
       "      <td>320.653728</td>\n",
       "      <td>0_0_1_0_0_0</td>\n",
       "    </tr>\n",
       "    <tr>\n",
       "      <th>66</th>\n",
       "      <td>427.706666</td>\n",
       "      <td>56.411033</td>\n",
       "      <td>-330.037912</td>\n",
       "      <td>0_0_0_1_0_0</td>\n",
       "    </tr>\n",
       "    <tr>\n",
       "      <th>82</th>\n",
       "      <td>884.736000</td>\n",
       "      <td>231.928234</td>\n",
       "      <td>164168.722209</td>\n",
       "      <td>0_0_1_0_0_0</td>\n",
       "    </tr>\n",
       "    <tr>\n",
       "      <th>109</th>\n",
       "      <td>305.283438</td>\n",
       "      <td>72.292833</td>\n",
       "      <td>-323.621301</td>\n",
       "      <td>0_1_0_0_0_0</td>\n",
       "    </tr>\n",
       "  </tbody>\n",
       "</table>\n",
       "<p>119 rows × 4 columns</p>\n",
       "</div>"
      ],
      "text/plain": [
       "          Height       Width        Lengths     combined\n",
       "24   2968.227824  111.604225     246.660404  0_0_0_0_0_0\n",
       "72    853.320159  153.560114     256.877230  0_0_0_1_0_0\n",
       "46    177.182362   31.993889   -3019.823898  0_0_0_1_0_0\n",
       "55    452.984832  155.373797   39099.343371  0_0_1_0_0_0\n",
       "36     10.851106    2.115885  -22855.688666  0_0_0_0_1_0\n",
       "..           ...         ...            ...          ...\n",
       "88   2746.882209  113.647166      86.762636  0_0_0_0_0_0\n",
       "99    172.622610   38.463866     320.653728  0_0_1_0_0_0\n",
       "66    427.706666   56.411033    -330.037912  0_0_0_1_0_0\n",
       "82    884.736000  231.928234  164168.722209  0_0_1_0_0_0\n",
       "109   305.283438   72.292833    -323.621301  0_1_0_0_0_0\n",
       "\n",
       "[119 rows x 4 columns]"
      ]
     },
     "execution_count": 418,
     "metadata": {},
     "output_type": "execute_result"
    }
   ],
   "source": [
    "df_concat = df_concat.drop(columns=cols)\n",
    "df_concat"
   ]
  },
  {
   "cell_type": "code",
   "execution_count": 375,
   "metadata": {},
   "outputs": [
    {
     "data": {
      "text/html": [
       "<div>\n",
       "<style scoped>\n",
       "    .dataframe tbody tr th:only-of-type {\n",
       "        vertical-align: middle;\n",
       "    }\n",
       "\n",
       "    .dataframe tbody tr th {\n",
       "        vertical-align: top;\n",
       "    }\n",
       "\n",
       "    .dataframe thead th {\n",
       "        text-align: right;\n",
       "    }\n",
       "</style>\n",
       "<table border=\"1\" class=\"dataframe\">\n",
       "  <thead>\n",
       "    <tr style=\"text-align: right;\">\n",
       "      <th></th>\n",
       "      <th>Weight</th>\n",
       "    </tr>\n",
       "  </thead>\n",
       "  <tbody>\n",
       "    <tr>\n",
       "      <th>24</th>\n",
       "      <td>500.0</td>\n",
       "    </tr>\n",
       "    <tr>\n",
       "      <th>72</th>\n",
       "      <td>390.0</td>\n",
       "    </tr>\n",
       "    <tr>\n",
       "      <th>46</th>\n",
       "      <td>87.0</td>\n",
       "    </tr>\n",
       "    <tr>\n",
       "      <th>55</th>\n",
       "      <td>770.0</td>\n",
       "    </tr>\n",
       "    <tr>\n",
       "      <th>36</th>\n",
       "      <td>10.0</td>\n",
       "    </tr>\n",
       "    <tr>\n",
       "      <th>...</th>\n",
       "      <td>...</td>\n",
       "    </tr>\n",
       "    <tr>\n",
       "      <th>88</th>\n",
       "      <td>450.0</td>\n",
       "    </tr>\n",
       "    <tr>\n",
       "      <th>99</th>\n",
       "      <td>200.0</td>\n",
       "    </tr>\n",
       "    <tr>\n",
       "      <th>66</th>\n",
       "      <td>169.0</td>\n",
       "    </tr>\n",
       "    <tr>\n",
       "      <th>82</th>\n",
       "      <td>1550.0</td>\n",
       "    </tr>\n",
       "    <tr>\n",
       "      <th>109</th>\n",
       "      <td>188.0</td>\n",
       "    </tr>\n",
       "  </tbody>\n",
       "</table>\n",
       "<p>119 rows × 1 columns</p>\n",
       "</div>"
      ],
      "text/plain": [
       "     Weight\n",
       "24    500.0\n",
       "72    390.0\n",
       "46     87.0\n",
       "55    770.0\n",
       "36     10.0\n",
       "..      ...\n",
       "88    450.0\n",
       "99    200.0\n",
       "66    169.0\n",
       "82   1550.0\n",
       "109   188.0\n",
       "\n",
       "[119 rows x 1 columns]"
      ]
     },
     "execution_count": 375,
     "metadata": {},
     "output_type": "execute_result"
    }
   ],
   "source": [
    "df_concat_y = pd.concat([y_train, y_test])\n",
    "df_concat_y = pd.DataFrame(df_concat_y)\n",
    "df_concat_y"
   ]
  },
  {
   "cell_type": "code",
   "execution_count": 421,
   "metadata": {},
   "outputs": [
    {
     "data": {
      "text/plain": [
       "array([[ 173.73072083,  184.27924768,  140.92742271,  123.71320532,\n",
       "          93.3919064 ,  210.75336962,   94.15409997,  377.46450364,\n",
       "         401.46273178,  186.23492187, 2279.33312901,  201.81422511,\n",
       "         613.37367663, 1077.7442991 ,   37.39708551,  589.13839692,\n",
       "         182.47710268,  814.61228933, 1577.66538755,  141.62798621,\n",
       "         569.79504202,  247.44669149,  138.32424453,  210.29806772,\n",
       "         275.03589024,  609.31504486,  318.44665941,    6.37292692,\n",
       "          60.26287416,  -33.30080386,  952.1838834 ,  522.49978727,\n",
       "         541.31202812,  171.09199436,   17.30094979,  141.05552553,\n",
       "         182.65028847,  960.97955005,  754.95482473,  190.18911088]])"
      ]
     },
     "execution_count": 421,
     "metadata": {},
     "output_type": "execute_result"
    }
   ],
   "source": [
    "simple_lr = LinearRegression()\n",
    "simple_lr.fit(df_concat, df_concat_y)\n",
    "predicted_y = simple_lr.predict(df_r)\n",
    "predicted_y.T"
   ]
  },
  {
   "cell_type": "code",
   "execution_count": 390,
   "metadata": {},
   "outputs": [
    {
     "data": {
      "text/plain": [
       "40"
      ]
     },
     "execution_count": 390,
     "metadata": {},
     "output_type": "execute_result"
    }
   ],
   "source": [
    "[ 118.42417049,  170.45443729,  127.93486318,  126.19533908,\n",
    "          95.24234634,  197.34956902,   83.3783084 ,  445.61661017,\n",
    "         382.59364563,  131.45000748, 2202.15735782,  187.11978659,\n",
    "         606.47748163, 1059.43980248,   30.47221691,  585.14752655,\n",
    "         127.22013787,  818.93763428, 1541.96997777,  127.75678635,\n",
    "         567.26484779,  192.75538033,  125.36070499,  195.55921512,\n",
    "         352.44183301,  598.82192306,  369.92125401,   41.37760531,\n",
    "          89.99824014,    6.02038518,  955.26436878,  511.23180606,\n",
    "         534.59141811,  174.75501615,   50.95424586,   86.58790324,\n",
    "         167.98741333,  951.29530068,  755.86882853,  175.29980623]\n",
    "         \n",
    "         "
   ]
  },
  {
   "cell_type": "code",
   "execution_count": null,
   "metadata": {},
   "outputs": [],
   "source": [
    "simple_lr = LinearRegression()\n",
    "simple_lr.fit(df_concat, df_concat_y)\n",
    "predicted_y = simple_lr.predict(df_r.join(df_r_cat))\n",
    "predicted_y.T"
   ]
  },
  {
   "cell_type": "code",
   "execution_count": null,
   "metadata": {},
   "outputs": [],
   "source": []
  }
 ],
 "metadata": {
  "colab": {
   "provenance": []
  },
  "kernelspec": {
   "display_name": "Python 3 (ipykernel)",
   "language": "python",
   "name": "python3"
  },
  "language_info": {
   "codemirror_mode": {
    "name": "ipython",
    "version": 3
   },
   "file_extension": ".py",
   "mimetype": "text/x-python",
   "name": "python",
   "nbconvert_exporter": "python",
   "pygments_lexer": "ipython3",
   "version": "3.9.13"
  }
 },
 "nbformat": 4,
 "nbformat_minor": 1
}
